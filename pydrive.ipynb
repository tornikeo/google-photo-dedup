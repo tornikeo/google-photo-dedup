{
 "cells": [
  {
   "cell_type": "code",
   "execution_count": 1,
   "id": "37347a83",
   "metadata": {},
   "outputs": [],
   "source": [
    "#follow https://pythonhosted.org/PyDrive/quickstart.html"
   ]
  },
  {
   "cell_type": "code",
   "execution_count": 2,
   "id": "7eed5d24",
   "metadata": {},
   "outputs": [
    {
     "name": "stdout",
     "output_type": "stream",
     "text": [
      "Collecting PyDrive\n",
      "  Downloading PyDrive-1.3.1.tar.gz (987 kB)\n",
      "\u001b[K     |████████████████████████████████| 987 kB 1.3 MB/s eta 0:00:01\n",
      "\u001b[?25hRequirement already satisfied: google-api-python-client>=1.2 in /home/tornikeo/.miniconda3/envs/drive-dedupe/lib/python3.8/site-packages (from PyDrive) (2.49.0)\n",
      "Collecting oauth2client>=4.0.0\n",
      "  Downloading oauth2client-4.1.3-py2.py3-none-any.whl (98 kB)\n",
      "\u001b[K     |████████████████████████████████| 98 kB 7.3 MB/s  eta 0:00:01\n",
      "\u001b[?25hCollecting PyYAML>=3.0\n",
      "  Using cached PyYAML-6.0-cp38-cp38-manylinux_2_5_x86_64.manylinux1_x86_64.manylinux_2_12_x86_64.manylinux2010_x86_64.whl (701 kB)\n",
      "Requirement already satisfied: google-api-core!=2.0.*,!=2.1.*,!=2.2.*,!=2.3.0,<3.0.0dev,>=1.31.5 in /home/tornikeo/.miniconda3/envs/drive-dedupe/lib/python3.8/site-packages (from google-api-python-client>=1.2->PyDrive) (2.8.1)\n",
      "Requirement already satisfied: google-auth-httplib2>=0.1.0 in /home/tornikeo/.miniconda3/envs/drive-dedupe/lib/python3.8/site-packages (from google-api-python-client>=1.2->PyDrive) (0.1.0)\n",
      "Requirement already satisfied: uritemplate<5,>=3.0.1 in /home/tornikeo/.miniconda3/envs/drive-dedupe/lib/python3.8/site-packages (from google-api-python-client>=1.2->PyDrive) (4.1.1)\n",
      "Requirement already satisfied: google-auth<3.0.0dev,>=1.16.0 in /home/tornikeo/.miniconda3/envs/drive-dedupe/lib/python3.8/site-packages (from google-api-python-client>=1.2->PyDrive) (2.6.6)\n",
      "Requirement already satisfied: httplib2<1dev,>=0.15.0 in /home/tornikeo/.miniconda3/envs/drive-dedupe/lib/python3.8/site-packages (from google-api-python-client>=1.2->PyDrive) (0.20.4)\n",
      "Requirement already satisfied: protobuf<4.0.0dev,>=3.15.0 in /home/tornikeo/.miniconda3/envs/drive-dedupe/lib/python3.8/site-packages (from google-api-core!=2.0.*,!=2.1.*,!=2.2.*,!=2.3.0,<3.0.0dev,>=1.31.5->google-api-python-client>=1.2->PyDrive) (3.20.1)\n",
      "Requirement already satisfied: googleapis-common-protos<2.0dev,>=1.56.2 in /home/tornikeo/.miniconda3/envs/drive-dedupe/lib/python3.8/site-packages (from google-api-core!=2.0.*,!=2.1.*,!=2.2.*,!=2.3.0,<3.0.0dev,>=1.31.5->google-api-python-client>=1.2->PyDrive) (1.56.2)\n",
      "Requirement already satisfied: requests<3.0.0dev,>=2.18.0 in /home/tornikeo/.miniconda3/envs/drive-dedupe/lib/python3.8/site-packages (from google-api-core!=2.0.*,!=2.1.*,!=2.2.*,!=2.3.0,<3.0.0dev,>=1.31.5->google-api-python-client>=1.2->PyDrive) (2.27.1)\n",
      "Requirement already satisfied: pyasn1-modules>=0.2.1 in /home/tornikeo/.miniconda3/envs/drive-dedupe/lib/python3.8/site-packages (from google-auth<3.0.0dev,>=1.16.0->google-api-python-client>=1.2->PyDrive) (0.2.8)\n",
      "Requirement already satisfied: cachetools<6.0,>=2.0.0 in /home/tornikeo/.miniconda3/envs/drive-dedupe/lib/python3.8/site-packages (from google-auth<3.0.0dev,>=1.16.0->google-api-python-client>=1.2->PyDrive) (5.2.0)\n",
      "Requirement already satisfied: rsa<5,>=3.1.4 in /home/tornikeo/.miniconda3/envs/drive-dedupe/lib/python3.8/site-packages (from google-auth<3.0.0dev,>=1.16.0->google-api-python-client>=1.2->PyDrive) (4.8)\n",
      "Requirement already satisfied: six>=1.9.0 in /home/tornikeo/.miniconda3/envs/drive-dedupe/lib/python3.8/site-packages (from google-auth<3.0.0dev,>=1.16.0->google-api-python-client>=1.2->PyDrive) (1.16.0)\n",
      "Requirement already satisfied: pyparsing!=3.0.0,!=3.0.1,!=3.0.2,!=3.0.3,<4,>=2.4.2 in /home/tornikeo/.miniconda3/envs/drive-dedupe/lib/python3.8/site-packages (from httplib2<1dev,>=0.15.0->google-api-python-client>=1.2->PyDrive) (3.0.9)\n",
      "Requirement already satisfied: pyasn1>=0.1.7 in /home/tornikeo/.miniconda3/envs/drive-dedupe/lib/python3.8/site-packages (from oauth2client>=4.0.0->PyDrive) (0.4.8)\n",
      "Requirement already satisfied: urllib3<1.27,>=1.21.1 in /home/tornikeo/.miniconda3/envs/drive-dedupe/lib/python3.8/site-packages (from requests<3.0.0dev,>=2.18.0->google-api-core!=2.0.*,!=2.1.*,!=2.2.*,!=2.3.0,<3.0.0dev,>=1.31.5->google-api-python-client>=1.2->PyDrive) (1.26.9)\n",
      "Requirement already satisfied: certifi>=2017.4.17 in /home/tornikeo/.miniconda3/envs/drive-dedupe/lib/python3.8/site-packages (from requests<3.0.0dev,>=2.18.0->google-api-core!=2.0.*,!=2.1.*,!=2.2.*,!=2.3.0,<3.0.0dev,>=1.31.5->google-api-python-client>=1.2->PyDrive) (2022.5.18.1)\n",
      "Requirement already satisfied: charset-normalizer~=2.0.0 in /home/tornikeo/.miniconda3/envs/drive-dedupe/lib/python3.8/site-packages (from requests<3.0.0dev,>=2.18.0->google-api-core!=2.0.*,!=2.1.*,!=2.2.*,!=2.3.0,<3.0.0dev,>=1.31.5->google-api-python-client>=1.2->PyDrive) (2.0.12)\n",
      "Requirement already satisfied: idna<4,>=2.5 in /home/tornikeo/.miniconda3/envs/drive-dedupe/lib/python3.8/site-packages (from requests<3.0.0dev,>=2.18.0->google-api-core!=2.0.*,!=2.1.*,!=2.2.*,!=2.3.0,<3.0.0dev,>=1.31.5->google-api-python-client>=1.2->PyDrive) (3.3)\n",
      "Building wheels for collected packages: PyDrive\n",
      "  Building wheel for PyDrive (setup.py) ... \u001b[?25ldone\n",
      "\u001b[?25h  Created wheel for PyDrive: filename=PyDrive-1.3.1-py3-none-any.whl size=27453 sha256=8dcd68e6240aef47e167baaddf8582c01835f39341e29cc24c60e728f04e47e5\n",
      "  Stored in directory: /home/tornikeo/.cache/pip/wheels/c6/14/12/ccdcc5d3b41661f360f9c7d9f7ea9d1879a5f85aa4ecc8cc6f\n",
      "Successfully built PyDrive\n",
      "Installing collected packages: PyYAML, oauth2client, PyDrive\n",
      "Successfully installed PyDrive-1.3.1 PyYAML-6.0 oauth2client-4.1.3\n"
     ]
    }
   ],
   "source": [
    "!pip install PyDrive"
   ]
  },
  {
   "cell_type": "code",
   "execution_count": 3,
   "id": "3260bdff",
   "metadata": {},
   "outputs": [],
   "source": [
    "NAME = 'drive_dedupe'"
   ]
  },
  {
   "cell_type": "code",
   "execution_count": 1,
   "id": "e86b0c82",
   "metadata": {},
   "outputs": [
    {
     "name": "stdout",
     "output_type": "stream",
     "text": [
      "Your browser has been opened to visit:\n",
      "\n",
      "    https://accounts.google.com/o/oauth2/auth?client_id=11167800398-d3mr0g582hqmcbs0lnki0buk7q24dg5g.apps.googleusercontent.com&redirect_uri=http%3A%2F%2Flocalhost%3A8097%2F&scope=https%3A%2F%2Fwww.googleapis.com%2Fauth%2Fdrive&access_type=offline&response_type=code\n",
      "\n",
      "Authentication successful.\n"
     ]
    }
   ],
   "source": [
    "from pydrive.auth import GoogleAuth\n",
    "\n",
    "\n",
    "gauth = GoogleAuth()\n",
    "gauth.LocalWebserverAuth('localhost',[8097]) # Creates local webserver and auto handles authentication."
   ]
  },
  {
   "cell_type": "code",
   "execution_count": 4,
   "id": "94f1e136",
   "metadata": {},
   "outputs": [],
   "source": [
    "from pydrive.drive import GoogleDrive\n",
    "\n",
    "drive = GoogleDrive(gauth)"
   ]
  },
  {
   "cell_type": "code",
   "execution_count": 5,
   "id": "bee97235",
   "metadata": {},
   "outputs": [
    {
     "name": "stdout",
     "output_type": "stream",
     "text": [
      "title:  საკითხავი - ინტეგრალი, id: 0B5uvjBuTDH38fmVJOTVmWGtpY1lhNlZ0b19UazRNdnhiWjRaZ2JoNzhJWWd5Si1jcFd3cGs\n",
      "title: Ch07, id: 0B5uvjBuTDH38fmRDNDN5YXQ0TEFWQUM1ZE8zMDMzVlFUVUctSzRuTWhzTFVPWm4tOGV1Unc\n",
      "title: Transfers, id: 0B5uvjBuTDH38fjFqQnliTmljdFh6UDJNWWRJb0ZUM0hSNTFmVHJlSmlnS21JR0p5alZCdlE\n",
      "title: practice12, id: 0B5uvjBuTDH38fnlyMGNDcy0zMFBfdW9xMk8yaTRQbHlBMXJFbmE2czl6X09JWHdnVkhPQWM\n",
      "title: bakurianii 28, id: 0B5uvjBuTDH38fjVNc0pJRmZ0bXpNSlp4ZjYwN1JPdW8ycVdMdWpwNG12dEVLTzd2Um9aZTQ\n",
      "title: practice20, id: 0B5uvjBuTDH38fkJydU85NkVabmdUTk5BenNtbDZXMmVkRzA2aFVzcW9vaXh5VXFuR0xackU\n",
      "title: practice11, id: 0B5uvjBuTDH38flQtTE1mQ2Q2QW1PLUp6YUZ3TFlmZ3l0NDRFTUt1aGJNLVNITm5NTGpmNVU\n",
      "title: practice08, id: 0B5uvjBuTDH38fnFYRFp2cWFFRnVyWUJ1Mnc2TjBjU2xMODNHVVExV0FHQUNBaGc0dnFZZ2M\n",
      "title: practice19, id: 0B5uvjBuTDH38fnBCVHUwVWIzZHJEZEdaeGVCRzB0RXpaUTZCTnFiM1VEWGpmcGtHVDZvUDQ\n",
      "title: Ch40, id: 0B5uvjBuTDH38fnNEWjRaX2RnZldfZkxib2ZNSjRTNWNWdzhIckE0XzVKWm9fLUtyS0VXLUU\n",
      "title: practice10, id: 0B5uvjBuTDH38fmZTaFlkYkdZUEthU2kyMGxIdnhITlFYclhmaFgxVF9jeEExT2NEd0s4eTg\n",
      "title: გერგეთი 13.03.2016, id: 0B5uvjBuTDH38fmhwcnF6Y0Z1NmROS2l3MjA1MjNja1JqdXYtZ05oWHJuR1MxTjhLR2k4eDA\n",
      "title: Public, id: 0B5uvjBuTDH38fjhkTkJRdFh0ODFCcVFuOXBuRFlETHVLbS1ILTNFZ0I4Wjh5eDZmaEhpckE\n",
      "title: Sch1 NEU_CD.AB, id: 0B5uvjBuTDH38flJTNks5Y08xOFNfNi1idlczT3h1Yk9GRk5aU0x3Uzgxby02RjF6cmlwN0U\n",
      "title: ბონუსები, id: 0B5uvjBuTDH38fjdTQW5SM2oyUTctT0ctN2VLdWlEenNWLWpZZWRmZl9xNFRZdkItTmhadU0\n",
      "title: FILTHY FRANK ARCHIVE, id: 0B5uvjBuTDH38fkM3MkdEdDV5d3JaWUhoa1FIb3lFaEVQTDVwdzRqTnNrQ3d4ZnNqd21vb3M\n",
      "title: Schritte 2_NEU_AB, id: 0B5uvjBuTDH38fjhKSk15M2g1RGJsendCcUZfR3JFbzhmb0Y2VTczcVZnQ0VOTU5kemVTcms\n",
      "title: ტექსტები, id: 0B5uvjBuTDH38flFaTFE4UEdyaUliaENCM0NXelFZYTZ0Ui1ZbkFzRXcwR2s0QWUzRWEwZzQ\n",
      "title: დამატებითი პროგრამები, id: 0B5uvjBuTDH38fncxRDVqV1Q2M0lCdFBla2RfYXFGbG5YNDdUalpBUFZYZWFLTDh0QVBhNG8\n",
      "title: Schritte 1,2_NEU_Intensivtrainer, id: 0B5uvjBuTDH38fkJNRzZCTWhwdjZWbHpNOGxzUU56b1BKZzkzeUJPckg5eVNzWFY4QWhBVUk\n",
      "title: პრეზენტაციები, id: 0B5uvjBuTDH38fnltdFlHOEZIU1hTTmQxbUJ6SDFZRU4xZExUak5rM0V4TXptQ21Cdk42TkU\n",
      "title: სასწავლო მასალა და სილაბუსი, id: 0B5uvjBuTDH38fnA0NW9yenE2dGF2ckl4cHVLZlhVSTFjSmlxQ0VCakQ1V3B2c0RHbXZOdHM\n",
      "title: პარადიგმები, id: 0B5uvjBuTDH38fjVuYk1MZkRJLVFWSmZxZ2JudmRaRHZSQkUzWkN0Ul9LRXN0Tld5djJrQ0U\n",
      "title: bedrooms-256x256, id: 0B5uvjBuTDH38flUxTEtBV1F6M2phcG5KV2l5V1ZDVm5KekJsQkQ0dkh5UWQwXy1WaFlyczg\n",
      "title: RO, id: 0B5uvjBuTDH38fndKMGRGQXRWZlVpb2FrbUpnUTJZbTZRZXV5SWZJdlZ4OFpGbWc5X0Fhd3M\n",
      "title: cars-512x384, id: 0B5uvjBuTDH38fnB6RnZTbWhkUC1QYzdtbXVkbkRNbXNMSFJfZ2VIRFBRbE9GSDRGMkJBWkk\n",
      "title: high-quality-video-clips, id: 0B5uvjBuTDH38fmFwTFhtejV6VTkyYU5rMEdFc3VZTXptRU9JTFp4dDRMUElnLTY0ZHdPTE0\n",
      "title: bank, id: 0B5uvjBuTDH38fmRJVEUyMWFMUkJvX0R3SDV5NFo5dmlhN2hsekt5alhWTncyMnY4OXAzRlk\n",
      "title: VanillaWeaponsExpanded, id: 0B5uvjBuTDH38fnFDU2tpbEtock1fMmN2T2ZybThMUnVLNzNuRVRPWEVTY0F1WkI2UFB2STA\n",
      "title: Graduation Freeuni 2019, id: 0B5uvjBuTDH38fkN5N1hnaWdQcUtZQ0NIRzNBQTFFRXY0eW1GcnB2cXNMN3NQYmlLOTM3em8\n",
      "title: Transfers, id: 0B5uvjBuTDH38fkhzRUxhN0JBbHRfYXItbld1WVU0ODRmM09YUXhRczdoTU9NRjJuZ052c00\n",
      "title: GRE_STUDY_GUIDE, id: 0B5uvjBuTDH38fk1XWWtXVGxmbk9oZ2xjRjRFcVZ3bXpJdVRJSE1lOGZXd1dvaWx0bGlfVDQ\n",
      "title: the_boys_s1_songs, id: 0B5uvjBuTDH38fkxrRnp4WDNBbHZtellYcmNNUnlhWUFxY3RzQjVsVVJYVUdXVC14VnJzN2s\n",
      "title: ქურტყლი, id: 0B5uvjBuTDH38fkJ0bEc1QW1JWnB5bXhsODJUc1RSci12aGpVc3Y3TkhCUGdGT1kyRDVUbFk\n",
      "title: Transfers, id: 0B5uvjBuTDH38fjJ3VkhfeGNKVFlJS2tXcHIxUW5OTjdJdlJEdzRmN0pCcUQwaEcyQ1pQaDQ\n",
      "title: Transfers, id: 0B5uvjBuTDH38flhrTno4ektOVkFDNGNSTE1SaXF5YVZCRFQyOVI2RWdsdk5BMW5URzhVak0\n",
      "title: RW, id: 0B5uvjBuTDH38flRlWXpuLXVwNEpucWQzMlVHU1NncjZKOVFlMjBBYnFEMzI0Q1JrQVFxMDQ\n",
      "title: fold, id: 0B5uvjBuTDH38fmdERVZqanEzZklPZ2h3TkxDaUt2cVN5d0k4UHR3MXVYd3E3cHFOS0FwaUU\n",
      "title: homework, id: 0B5uvjBuTDH38fnpmb2RJQlZNT0c3RVNmR2lkb054aTQwcVd2YjlaYXY0akdSSFg4Rkxoa2s\n",
      "title: Roman Holidays , id: 0B5uvjBuTDH38fjJURTVFa3FxYUhPX3NtN1BycUNKLXM5a1hzY1pCR2dSclJaQzdLWTd3ZWs\n",
      "title: tonop15@freeuni.edu.ge 2022-05-23 16:48, id: 0B5uvjBuTDH38fjJDNDdkME5UdzJfZmZNNmdUNmhSTGpTQi1uMVRRMy02RmJGbkVYdmRvam8\n",
      "title: data_Tornike, id: 1MyhZs3PS73l0PBoocYseYnjuup55yUD3q5C82fBmybk\n",
      "title: tmp, id: 1Bb9AcYmyR9ekjZQ7rp-4eyQPwNLe-M2y\n",
      "title: racha 2016, id: 1eDKRf5wIOVDiuI6Y9OaR3IQROUtRee8\n",
      "title: backup-apr-2022, id: 1-9_wONL-rtFzeqifL6JKo6e4NYrJf74H\n",
      "title: Attentional models have seen a huge growth in popularity, id: 1B9G7kkSZQTseWd-Y_rmOxBP9SwSj9ixPxieWaZfhdI0\n",
      "title: cover_letters, id: 1ZjgAQFURCfomSyg3SEKvC0PIWipqhXse\n",
      "title: TornikeO - Cover letter, id: 1CTlKx4oGC34Zc0c4hxl1CQZQqpktQ82eOsgSb_1cRXI\n",
      "title: Cover letter - Scoobe3D, id: 1hOw3-72fTGE1Cofs4CejBxfXG7-csI1ZhHZi9CTLMNw\n",
      "title: apis, id: 1VXFibAm08miuIp5RUlZjusog6Hia9jux\n",
      "title: sanet_weights, id: 1rqQdHV3Q4hvMeFiwUWpzmAahwwglKEqA\n",
      "title: Colab Notebooks, id: 1_SpBuKfp4hGHxHBbIPpP89d2tRse8EZa\n",
      "title: Ch07, id: 0B5uvjBuTDH38fnBrWkNtNUtua0dHX0tFdjNMSklhMjk1bm1NbnhwU3FZMFExdDAxeDRvQ3M\n",
      "title: bakurianii 28, id: 0B5uvjBuTDH38fjUwa1FINzNPUUtxalp0ZlVpQ0h2UHhoX3gxdUY5MGhJZ2pyaU1xZmNtRlU\n",
      "title: practice12, id: 0B5uvjBuTDH38flJyWFVmMkZpTG9WelhsZ2N1RktObTVLNUxrOUlIRzFEazVfSlYxbUtHTTQ\n",
      "title: practice08, id: 0B5uvjBuTDH38fmZiM3U1NkxoSnI3eklkQ3Z1a3pRdDlfeXRLYk1MRHBfNjFuNGRrWVRObTg\n",
      "title: practice11, id: 0B5uvjBuTDH38fkc4NjVVcDRMb0JIZk9FTXZ2aHF1eEs4NFhzR0R1b0RNWHhSNkxWMW1sdWM\n",
      "title: practice10, id: 0B5uvjBuTDH38fnZtX3JkMjBQVnBGaUk2NEVrZ21FWVR2SWhuU00zVk1tdUZNelFGblJLTUU\n",
      "title: გერგეთი 13.03.2016, id: 0B5uvjBuTDH38fjRPaElQaUtTbFVRcE40ZHNPN01TVE15UzVkNy0tb3dzOXdldkoxdzhPdGM\n",
      "title: Ch40, id: 0B5uvjBuTDH38fmRoUGYxTEhDT1VyZG11OGl5ZHBkdGlmWHFNLWlRRXlSQV9Gb0xwdklkVm8\n",
      "title: practice20, id: 0B5uvjBuTDH38fktuU1ZhSWZOUHh1d28yaWozXzZQbXBrNW8wX2ZDTnktV1lTajkwT2l5clE\n",
      "title: Public, id: 0B5uvjBuTDH38fmJpM0pvcUFDcnBNTk1UbU45X2xwa2RSQ3RhV3g5ZzRlZ0U3U0M4WFQyY0U\n",
      "title: practice19, id: 0B5uvjBuTDH38fmVSMXRlSE5vWk1xMzFYc3FHbkM3WWtoc3Bwd3RTeDJDdjA3YUpKdGdkWUU\n",
      "title: FILTHY FRANK ARCHIVE, id: 0B5uvjBuTDH38fkxtZU9iSTJ4NUFWVDV4N19KUklERXY3TlVwdHJPY2dJSnJqd3I0UTdaeTQ\n",
      "title: Schritte 1,2_NEU_Intensivtrainer, id: 0B5uvjBuTDH38flN5b2NBdWlremRCOEZieXVSOTgwOXZUZlVXZExYR1ktUHdfS0dsN1pRTU0\n",
      "title: Schritte 2_NEU_AB, id: 0B5uvjBuTDH38fjNER2Z0MVRta2FiSEVMRlVtMlJscVRrTDlYR2ZFQlpmd3FrR1pBQjFHSm8\n",
      "title: Sch1 NEU_CD.AB, id: 0B5uvjBuTDH38fnNRd01obXNLZGxpU2F2ZGZiQUstaTdVVzJfcWlMMDdOS3dyYTZqZTIxeE0\n",
      "title: Transfers, id: 0B5uvjBuTDH38fnIwTEVGQWpwdWhuaFFucGs1VTh6WDhQbkhMRkxOcENsY1MyeTJqQ0dfTjQ\n",
      "title: ტექსტები, id: 0B5uvjBuTDH38fjBUc1Y1Q0hpanplVmFseVdiek9DZ19jWUJ1V0ZQMmdtTTQwMW5oQjRUeUE\n",
      "title: Transfers, id: 0B5uvjBuTDH38fnB4MDByUjYxTl9ocXhRMTF0Vk05bFN5TFlZYUgwWHI1Ny1tRERUdmkzVDg\n",
      "title: პრეზენტაციები, id: 0B5uvjBuTDH38fjdOZUxXOFZDdTZfZEFJZFlDdC14UnNQQmNUQWJQRmJUUlpzTGFjOTRvdzg\n",
      "title: Transfers, id: 0B5uvjBuTDH38flZaLVJ6dzRXVFcxVkxYaGJoYjV2eFNuM21zbTUtWkhlOW9QR0hsWWVibnM\n",
      "title: Transfers, id: 0B5uvjBuTDH38flduLXZlazhGd012bHBMb0pTelFPM2Z5Rmp3aHZpcjVaUm5wdXVEVmpzbmc\n",
      "title: დამატებითი პროგრამები, id: 0B5uvjBuTDH38flJDeXB5eDE0N0RuRUJPQW5rbDRMMDBOOHNXUnFaQlhSdWFMdVBmY3JfWkE\n",
      "title: ბონუსები, id: 0B5uvjBuTDH38fnVRc0F2eEVtV0cxOThodDA5aHcxNGszdWdMdzZtT2xaNnFwYm5hS3pFd2s\n",
      "title: სასწავლო მასალა და სილაბუსი, id: 0B5uvjBuTDH38fjVLZlh0TzJfalp4WGpia1FQcDVoNmJ2ZE1ERHdTZV9qWEU4NzN3OUV5c0E\n",
      "title: homework, id: 0B5uvjBuTDH38fkFiOV9iRlh1aGc5OFhkSDFrV3VHaGxieEQ0WDNTSzJDQ0pRS2Z1TXJHTjg\n",
      "title: პარადიგმები, id: 0B5uvjBuTDH38fjlmaUtpV3phMWxhRHhqSFkxY0ItOGkycGtmNTM4eEdmSE9IWTJaMldBYm8\n",
      "title:  საკითხავი - ინტეგრალი, id: 0B5uvjBuTDH38fkg2amFtNXJmWjlpUE10S3lBTWUwMS1STkFQQ3Zub1c1ZmVDZVV3TDlTZ00\n",
      "title: bedrooms-256x256, id: 0B5uvjBuTDH38fjI2LTBDcWVHdWY4NHBtWTUyX3VRT0hiMXNwWDEyT3FJN2t5a2Q4Z1FhcDA\n",
      "title: cars-512x384, id: 0B5uvjBuTDH38fk9lQ1JUcENTRnY2WWh5VjRQaGl3SnhnVE1PRzMxYWtGUEl2TGpKNGRtMmM\n",
      "title: RO, id: 0B5uvjBuTDH38fmJkYjg3SFBoNE5tQmlzaWV4azJPNC1Qc3djMXRtOEVOWVBVamZ4NGxad3c\n",
      "title: high-quality-video-clips, id: 0B5uvjBuTDH38fktNWVkxUXRhOG1aZjVZTUpNRkM0Z3lndy1yTzBNR1doaElTZ1JRbzJHTVE\n",
      "title: RW, id: 0B5uvjBuTDH38fnNabzRiYzVlTEUzdUZNeGJyVVcyQmJubXNwY19obUtnR2ZPNERIeHNVXzA\n",
      "title: Schritte, id: 0B5uvjBuTDH38fkdXOVR0UVV1SkdCRjdqREhCMFdZV1RzMV93b29ybWVUQndTSUVCUGFLUUk\n",
      "title: fold, id: 0B5uvjBuTDH38fmZVejE5UVZlZUJZRGRrSldxc2YxZkpMS2VRckZ0dW5pVkM4a0ZzM1NFODA\n",
      "title: Vanilla-Expanded, id: 0B5uvjBuTDH38fnRSR2xCV1VmODE2WE5OR04xelRERGVlcTU0Qkw4MUlrSW1mSmJwWGs4ZzQ\n",
      "title: GRE_STUDY_GUIDE, id: 0B5uvjBuTDH38fllQRk04UFJ3djlCZUZuY1lKWnVWTFByOVRzLUt5YWp4RjE1VEtsTlp4Njg\n",
      "title: Roman Holidays , id: 0B5uvjBuTDH38fnhCTHFBYUwyNUVYcENWZUdON3VhOUxFamFra1JnTjFQR2NVQ2lrUC1SbVE\n",
      "title: the_boys_s1_songs, id: 0B5uvjBuTDH38flpoWkt4TzlWMVpRazBIM3p0cmU5cl91OFlFdnhhOFRUUUgyODc4OC1jRUk\n",
      "title: bank, id: 0B5uvjBuTDH38flVlcHBIc1FJRjZlSXQ4RUlvb2xJbm0wM0Myc0FQQ3NoTVNwOW1tNHQ1Y1U\n",
      "title: Graduation Freeuni 2019, id: 0B5uvjBuTDH38fm1pRFRFd1FVUTNybWRCSk5TWjlqdGdSQkNrXy1iUUpDU1hEdk9BZTJWeFE\n",
      "title: ქურტყლი, id: 0B5uvjBuTDH38fkxNZWU0b2dqQWJPa0U2UTVnQ2ZzVUo1RkhmanByb2ZtaVlHdWMyRFBieDQ\n",
      "title: tonop15@freeuni.edu.ge 2021-10-08 20:20, id: 0B5uvjBuTDH38fmstQUZmQmVWS2htSzNQMzl4UUxvcXJ6YXVwd1BEbFFFWWJncUZhUmtKYzg\n",
      "title: ბაჭია ახალ შეფუთვაში, id: 0B5uvjBuTDH38enl1X1RiMXBJRDQ\n",
      "title: assignment3, id: 0B5uvjBuTDH38djI5SklnWnZqZTg\n",
      "title: Java Handouts, id: 0B5uvjBuTDH38QmtWaUFFanFobkU\n",
      "title: ~$ოიზმი მირაშას ფორმატში.docx, id: 0B5uvjBuTDH38RUc0REY2SU1ScDQ\n",
      "title: abudelauri 4-9-2016, id: 0B5uvjBuTDH38bmpZRUhZYlVIRGs\n",
      "title: Google Photos, id: 1n2XTPrd0LHwT-LAYF0nYPrsGDSnqeSIE0fR7Zh6aD94\n",
      "title: Mydrive, id: 0B5uvjBuTDH38SDZQQS0wUHBnWHM\n"
     ]
    }
   ],
   "source": [
    "file_list = drive.ListFile({'q': \"'root' in parents and trashed=false\"}).GetList()\n",
    "for file1 in file_list:\n",
    "    print('title: %s, id: %s' % (file1['title'], file1['id']))"
   ]
  },
  {
   "cell_type": "code",
   "execution_count": 7,
   "id": "4b9274e4",
   "metadata": {},
   "outputs": [
    {
     "data": {
      "text/plain": [
       "101"
      ]
     },
     "execution_count": 7,
     "metadata": {},
     "output_type": "execute_result"
    }
   ],
   "source": [
    "len(file_list)"
   ]
  },
  {
   "cell_type": "code",
   "execution_count": null,
   "id": "d25ca49b",
   "metadata": {},
   "outputs": [],
   "source": [
    "# Error 403: ans: https://stackoverflow.com/questions/65756266/error-403-access-denied-the-developer-hasn-t-given-you-access-to-this-app-despi"
   ]
  }
 ],
 "metadata": {
  "kernelspec": {
   "display_name": "Python 3 (ipykernel)",
   "language": "python",
   "name": "python3"
  },
  "language_info": {
   "codemirror_mode": {
    "name": "ipython",
    "version": 3
   },
   "file_extension": ".py",
   "mimetype": "text/x-python",
   "name": "python",
   "nbconvert_exporter": "python",
   "pygments_lexer": "ipython3",
   "version": "3.8.13"
  }
 },
 "nbformat": 4,
 "nbformat_minor": 5
}
